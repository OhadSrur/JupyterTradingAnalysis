{
 "cells": [
  {
   "cell_type": "code",
   "execution_count": 3,
   "metadata": {},
   "outputs": [
    {
     "data": {
      "text/html": [
       "<div>\n",
       "<style scoped>\n",
       "    .dataframe tbody tr th:only-of-type {\n",
       "        vertical-align: middle;\n",
       "    }\n",
       "\n",
       "    .dataframe tbody tr th {\n",
       "        vertical-align: top;\n",
       "    }\n",
       "\n",
       "    .dataframe thead th {\n",
       "        text-align: right;\n",
       "    }\n",
       "</style>\n",
       "<table border=\"1\" class=\"dataframe\">\n",
       "  <thead>\n",
       "    <tr style=\"text-align: right;\">\n",
       "      <th></th>\n",
       "      <th>open</th>\n",
       "      <th>high</th>\n",
       "      <th>low</th>\n",
       "      <th>close</th>\n",
       "      <th>volume</th>\n",
       "    </tr>\n",
       "    <tr>\n",
       "      <th>timestamp</th>\n",
       "      <th></th>\n",
       "      <th></th>\n",
       "      <th></th>\n",
       "      <th></th>\n",
       "      <th></th>\n",
       "    </tr>\n",
       "  </thead>\n",
       "  <tbody>\n",
       "    <tr>\n",
       "      <th>2018-08-17</th>\n",
       "      <td>107.36</td>\n",
       "      <td>107.900</td>\n",
       "      <td>106.69</td>\n",
       "      <td>107.58</td>\n",
       "      <td>18061512</td>\n",
       "    </tr>\n",
       "    <tr>\n",
       "      <th>2018-08-16</th>\n",
       "      <td>108.30</td>\n",
       "      <td>108.860</td>\n",
       "      <td>107.30</td>\n",
       "      <td>107.64</td>\n",
       "      <td>21384289</td>\n",
       "    </tr>\n",
       "    <tr>\n",
       "      <th>2018-08-15</th>\n",
       "      <td>108.49</td>\n",
       "      <td>108.985</td>\n",
       "      <td>106.82</td>\n",
       "      <td>107.66</td>\n",
       "      <td>29982806</td>\n",
       "    </tr>\n",
       "    <tr>\n",
       "      <th>2018-08-14</th>\n",
       "      <td>108.56</td>\n",
       "      <td>109.750</td>\n",
       "      <td>108.04</td>\n",
       "      <td>109.56</td>\n",
       "      <td>16788314</td>\n",
       "    </tr>\n",
       "    <tr>\n",
       "      <th>2018-08-13</th>\n",
       "      <td>109.24</td>\n",
       "      <td>109.580</td>\n",
       "      <td>108.10</td>\n",
       "      <td>108.21</td>\n",
       "      <td>18474884</td>\n",
       "    </tr>\n",
       "  </tbody>\n",
       "</table>\n",
       "</div>"
      ],
      "text/plain": [
       "              open     high     low   close    volume\n",
       "timestamp                                            \n",
       "2018-08-17  107.36  107.900  106.69  107.58  18061512\n",
       "2018-08-16  108.30  108.860  107.30  107.64  21384289\n",
       "2018-08-15  108.49  108.985  106.82  107.66  29982806\n",
       "2018-08-14  108.56  109.750  108.04  109.56  16788314\n",
       "2018-08-13  109.24  109.580  108.10  108.21  18474884"
      ]
     },
     "execution_count": 3,
     "metadata": {},
     "output_type": "execute_result"
    }
   ],
   "source": [
    "%matplotlib inline\n",
    "\n",
    "from urllib.request import urlretrieve\n",
    "import pandas as pd\n",
    "url = \"https://www.alphavantage.co/query?function=TIME_SERIES_DAILY&symbol=MSFT&apikey=demo&datatype=csv\"\n",
    "filename = \"Stock.csv\"\n",
    "urlretrieve(url, filename)\n",
    "data = pd.read_csv(filename, index_col='timestamp',parse_dates=True)\n",
    "data.head()"
   ]
  },
  {
   "cell_type": "code",
   "execution_count": null,
   "metadata": {},
   "outputs": [],
   "source": []
  }
 ],
 "metadata": {
  "kernelspec": {
   "display_name": "Python 3",
   "language": "python",
   "name": "python3"
  },
  "language_info": {
   "codemirror_mode": {
    "name": "ipython",
    "version": 3
   },
   "file_extension": ".py",
   "mimetype": "text/x-python",
   "name": "python",
   "nbconvert_exporter": "python",
   "pygments_lexer": "ipython3",
   "version": "3.6.4"
  }
 },
 "nbformat": 4,
 "nbformat_minor": 2
}
